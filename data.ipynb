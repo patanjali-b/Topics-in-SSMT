{
 "cells": [
  {
   "cell_type": "markdown",
   "metadata": {},
   "source": [
    "### Loaded telugu dataset (Replace test with train)"
   ]
  },
  {
   "cell_type": "code",
   "execution_count": 1,
   "metadata": {},
   "outputs": [
    {
     "name": "stderr",
     "output_type": "stream",
     "text": [
      "/home/patanjali/anaconda3/lib/python3.10/site-packages/datasets/load.py:1461: FutureWarning: The repository for google/fleurs contains custom code which must be executed to correctly load the dataset. You can inspect the repository content at https://hf.co/datasets/google/fleurs\n",
      "You can avoid this message in future by passing the argument `trust_remote_code=True`.\n",
      "Passing `trust_remote_code=True` will be mandatory to load this dataset from the next major release of `datasets`.\n",
      "  warnings.warn(\n"
     ]
    }
   ],
   "source": [
    "from datasets import load_dataset\n",
    "fleurs = load_dataset(\"google/fleurs\", \"te_in\", split=\"test\")\n"
   ]
  },
  {
   "cell_type": "code",
   "execution_count": 2,
   "metadata": {},
   "outputs": [
    {
     "data": {
      "text/plain": [
       "{'id': 1908,\n",
       " 'num_samples': 107520,\n",
       " 'path': '/home/patanjali/.cache/huggingface/datasets/downloads/extracted/0ba63d0268fe1e03a2acaefd9643c5381f47bee9bb49534daf253537af3b9bac/10085601229183142282.wav',\n",
       " 'audio': {'path': 'test/10085601229183142282.wav',\n",
       "  'array': array([0.        , 0.        , 0.        , ..., 0.00226629, 0.00200015,\n",
       "         0.00197619]),\n",
       "  'sampling_rate': 16000},\n",
       " 'transcription': 'కొన్ని క్రియలు ఆబ్జెక్టుల మధ్య తేడాను గుర్తించడానికి ఇది ఒక ముఖ్యమైన మార్గం',\n",
       " 'raw_transcription': 'కొన్ని క్రియలు ఆబ్జెక్టుల మధ్య తేడాను గుర్తించడానికి ఇది ఒక ముఖ్యమైన మార్గం.',\n",
       " 'gender': 0,\n",
       " 'lang_id': 88,\n",
       " 'language': 'Telugu',\n",
       " 'lang_group_id': 4}"
      ]
     },
     "execution_count": 2,
     "metadata": {},
     "output_type": "execute_result"
    }
   ],
   "source": [
    "fleurs[1]"
   ]
  },
  {
   "cell_type": "markdown",
   "metadata": {},
   "source": [
    "### Loaded english dataset"
   ]
  },
  {
   "cell_type": "code",
   "execution_count": 3,
   "metadata": {},
   "outputs": [
    {
     "name": "stderr",
     "output_type": "stream",
     "text": [
      "/home/patanjali/anaconda3/lib/python3.10/site-packages/datasets/load.py:1461: FutureWarning: The repository for google/fleurs contains custom code which must be executed to correctly load the dataset. You can inspect the repository content at https://hf.co/datasets/google/fleurs\n",
      "You can avoid this message in future by passing the argument `trust_remote_code=True`.\n",
      "Passing `trust_remote_code=True` will be mandatory to load this dataset from the next major release of `datasets`.\n",
      "  warnings.warn(\n"
     ]
    }
   ],
   "source": [
    "# load the english dataset\n",
    "fleurs_en = load_dataset(\"google/fleurs\", \"en_us\", split=\"test\")"
   ]
  },
  {
   "cell_type": "code",
   "execution_count": 4,
   "metadata": {},
   "outputs": [
    {
     "data": {
      "text/plain": [
       "{'id': 1919,\n",
       " 'num_samples': 166080,\n",
       " 'path': '/home/patanjali/.cache/huggingface/datasets/downloads/extracted/a9a70c5645b168ffcdef5e0d2db7d350eb9b4ea9db7ed870f1407b74c98820c0/14643126700888487830.wav',\n",
       " 'audio': {'path': 'test/14643126700888487830.wav',\n",
       "  'array': array([ 0.        ,  0.        ,  0.        , ..., -0.00045824,\n",
       "         -0.00039661, -0.00042582]),\n",
       "  'sampling_rate': 16000},\n",
       " 'transcription': 'the city is also the base to climb the nyiragongo volcano along with some of the cheapest mountain gorilla tracking in africa',\n",
       " 'raw_transcription': 'The city is also the base to climb the Nyiragongo volcano along with some of the cheapest Mountain Gorilla tracking in Africa.',\n",
       " 'gender': 1,\n",
       " 'lang_id': 19,\n",
       " 'language': 'English',\n",
       " 'lang_group_id': 0}"
      ]
     },
     "execution_count": 4,
     "metadata": {},
     "output_type": "execute_result"
    }
   ],
   "source": [
    "fleurs_en[173]"
   ]
  },
  {
   "cell_type": "markdown",
   "metadata": {},
   "source": [
    "### Creating a parallel dataset by matching IDs"
   ]
  },
  {
   "cell_type": "code",
   "execution_count": 6,
   "metadata": {},
   "outputs": [
    {
     "name": "stdout",
     "output_type": "stream",
     "text": [
      "English: {'id': 1904, 'num_samples': 169280, 'path': '/home/patanjali/.cache/huggingface/datasets/downloads/extracted/a9a70c5645b168ffcdef5e0d2db7d350eb9b4ea9db7ed870f1407b74c98820c0/16685618834972658685.wav', 'audio': {'path': 'test/16685618834972658685.wav', 'array': array([0.00000000e+00, 0.00000000e+00, 0.00000000e+00, ...,\n",
      "       1.72853470e-06, 5.12599945e-06, 3.21865082e-06]), 'sampling_rate': 16000}, 'transcription': 'however due to the slow communication channels styles in the west could lag behind by 25 to 30 year', 'raw_transcription': 'However, due to the slow communication channels, styles in the west could lag behind by 25 to 30 year.', 'gender': 0, 'lang_id': 19, 'language': 'English', 'lang_group_id': 0}\n",
      "Telugu: {'id': 1904, 'num_samples': 199680, 'path': '/home/patanjali/.cache/huggingface/datasets/downloads/extracted/0ba63d0268fe1e03a2acaefd9643c5381f47bee9bb49534daf253537af3b9bac/17723349754432136178.wav', 'audio': {'path': 'test/17723349754432136178.wav', 'array': array([ 0.        ,  0.        ,  0.        , ..., -0.00011069,\n",
      "        0.00011903, -0.00064081]), 'sampling_rate': 16000}, 'transcription': 'అయితే నిదానంగా ఉన్న ప్రసార మాధ్యమాల కారణంగా పశ్చిమంలో స్టైల్స్ 25 నుండి 30 సంవత్సరాల వరకు వెనుకబడవచ్చు', 'raw_transcription': 'అయితే, నిదానంగా ఉన్న ప్రసార మాధ్యమాల కారణంగా, పశ్చిమంలో స్టైల్స్  25 నుండి 30 సంవత్సరాల వరకు వెనుకబడవచ్చు.', 'gender': 0, 'lang_id': 88, 'language': 'Telugu', 'lang_group_id': 4}\n",
      "\n",
      "English: {'id': 1675, 'num_samples': 105600, 'path': '/home/patanjali/.cache/huggingface/datasets/downloads/extracted/a9a70c5645b168ffcdef5e0d2db7d350eb9b4ea9db7ed870f1407b74c98820c0/6817878979697223927.wav', 'audio': {'path': 'test/6817878979697223927.wav', 'array': array([0.        , 0.        , 0.        , ..., 0.00018376, 0.00017041,\n",
      "       0.00022817]), 'sampling_rate': 16000}, 'transcription': 'all nouns alongside the word sie for you always begin with a capital letter even in the middle of a sentence', 'raw_transcription': 'All nouns, alongside the word Sie for you, always begin with a capital letter, even in the middle of a sentence.', 'gender': 1, 'lang_id': 19, 'language': 'English', 'lang_group_id': 0}\n",
      "Telugu: {'id': 1675, 'num_samples': 219840, 'path': '/home/patanjali/.cache/huggingface/datasets/downloads/extracted/0ba63d0268fe1e03a2acaefd9643c5381f47bee9bb49534daf253537af3b9bac/6510363154173685600.wav', 'audio': {'path': 'test/6510363154173685600.wav', 'array': array([0.        , 0.        , 0.        , ..., 0.00052387, 0.00046498,\n",
      "       0.00026923]), 'sampling_rate': 16000}, 'transcription': 'మీకు sie అనే పదం పక్కన వచ్చే నౌన్స్ అన్నీ ఎల్లప్పుడు క్యాపిటల్ లెటర్తో ప్రారంభం అవుతాయి అది వాక్యం మధ్యలోనైనా సరే', 'raw_transcription': 'మీకు Sie అనే పదం పక్కన వచ్చే నౌన్స్ అన్నీ ఎల్లప్పుడు క్యాపిటల్ లెటర్\\u200cతో ప్రారంభం అవుతాయి, అది వాక్యం మధ్యలోనైనా సరే.', 'gender': 0, 'lang_id': 88, 'language': 'Telugu', 'lang_group_id': 4}\n",
      "\n",
      "English: {'id': 1950, 'num_samples': 199680, 'path': '/home/patanjali/.cache/huggingface/datasets/downloads/extracted/a9a70c5645b168ffcdef5e0d2db7d350eb9b4ea9db7ed870f1407b74c98820c0/11483786862560523973.wav', 'audio': {'path': 'test/11483786862560523973.wav', 'array': array([ 0.        ,  0.        ,  0.        , ..., -0.00011587,\n",
      "       -0.00011379, -0.00010365]), 'sampling_rate': 16000}, 'transcription': 'to the north and within easy reach is the romantic and fascinating town of sintra and which was made famous to foreigners after a glowing account of its splendours recorded by lord byron', 'raw_transcription': 'To the north and within easy reach is the romantic and fascinating town of Sintra and which was made famous to foreigners after a glowing account of its splendours recorded by Lord Byron.', 'gender': 1, 'lang_id': 19, 'language': 'English', 'lang_group_id': 0}\n",
      "Telugu: {'id': 1950, 'num_samples': 230400, 'path': '/home/patanjali/.cache/huggingface/datasets/downloads/extracted/0ba63d0268fe1e03a2acaefd9643c5381f47bee9bb49534daf253537af3b9bac/6284242052692226381.wav', 'audio': {'path': 'test/6284242052692226381.wav', 'array': array([ 0.        ,  0.        ,  0.        , ..., -0.00097245,\n",
      "       -0.00129062, -0.00187945]), 'sampling_rate': 16000}, 'transcription': 'ఉత్తరానికి సులభంగా చేరుకొనే దినాన రొమాంటిక్ మనోహరమైన పట్టణం సింత్రా పట్టణం ఉంది మరియు లార్డ్ బైరాన్ ద్వారా నమోదు చేయబడిన దాని వైభవాల గురించి ఒక ప్రకాశవంతమైన కథనం తరువాత విదేశీయులకు ఇది ప్రసిద్ధి చెందింది', 'raw_transcription': 'ఉత్తరానికి, సులభంగా చేరుకొనే దినాన, రొమాంటిక్, మనోహరమైన పట్టణం సింత్రా పట్టణం ఉంది మరియు లార్డ్ బైరాన్ ద్వారా నమోదు చేయబడిన దాని వైభవాల గురించి ఒక ప్రకాశవంతమైన కథనం తరువాత విదేశీయులకు ఇది ప్రసిద్ధి చెందింది.', 'gender': 1, 'lang_id': 88, 'language': 'Telugu', 'lang_group_id': 4}\n",
      "\n",
      "English: {'id': 1972, 'num_samples': 80640, 'path': '/home/patanjali/.cache/huggingface/datasets/downloads/extracted/a9a70c5645b168ffcdef5e0d2db7d350eb9b4ea9db7ed870f1407b74c98820c0/2809748946829114692.wav', 'audio': {'path': 'test/2809748946829114692.wav', 'array': array([ 0.        ,  0.        ,  0.        , ..., -0.00041652,\n",
      "       -0.00039679, -0.00043494]), 'sampling_rate': 16000}, 'transcription': \"many people don't think about them as dinosaurs because they have feathers and can fly\", 'raw_transcription': \"Many people don't think about them as dinosaurs because they have feathers and can fly.\", 'gender': 1, 'lang_id': 19, 'language': 'English', 'lang_group_id': 0}\n",
      "Telugu: {'id': 1972, 'num_samples': 153600, 'path': '/home/patanjali/.cache/huggingface/datasets/downloads/extracted/0ba63d0268fe1e03a2acaefd9643c5381f47bee9bb49534daf253537af3b9bac/15644939854989172096.wav', 'audio': {'path': 'test/15644939854989172096.wav', 'array': array([0.        , 0.        , 0.        , ..., 0.00656658, 0.00552219,\n",
      "       0.0074966 ]), 'sampling_rate': 16000}, 'transcription': 'చాలామంది ఈకలు కలిగి ఎగరగలగటం వల్ల డైనోసార్లు గా వాటి గురించి ఆలోచించరు', 'raw_transcription': 'చాలామంది ఈకలు కలిగి, ఎగరగలగటం వల్ల డైనోసార్లు గా వాటి గురించి ఆలోచించరు.', 'gender': 0, 'lang_id': 88, 'language': 'Telugu', 'lang_group_id': 4}\n",
      "\n",
      "English: {'id': 1938, 'num_samples': 168960, 'path': '/home/patanjali/.cache/huggingface/datasets/downloads/extracted/a9a70c5645b168ffcdef5e0d2db7d350eb9b4ea9db7ed870f1407b74c98820c0/17392214165625498386.wav', 'audio': {'path': 'test/17392214165625498386.wav', 'array': array([ 0.00000000e+00,  0.00000000e+00,  0.00000000e+00, ...,\n",
      "       -1.78813934e-05, -8.94069672e-06, -1.99675560e-05]), 'sampling_rate': 16000}, 'transcription': 'the hospital has followed protocol for infection control including separating the patient from others to prevent possible infection of others', 'raw_transcription': 'The hospital has followed protocol for infection control, including separating the patient from others to prevent possible infection of others.', 'gender': 0, 'lang_id': 19, 'language': 'English', 'lang_group_id': 0}\n",
      "Telugu: {'id': 1938, 'num_samples': 232320, 'path': '/home/patanjali/.cache/huggingface/datasets/downloads/extracted/0ba63d0268fe1e03a2acaefd9643c5381f47bee9bb49534daf253537af3b9bac/15351816110641000271.wav', 'audio': {'path': 'test/15351816110641000271.wav', 'array': array([0.        , 0.        , 0.        , ..., 0.00092101, 0.00087357,\n",
      "       0.00090915]), 'sampling_rate': 16000}, 'transcription': 'ఆసుపత్రి సంక్రామ్యత నియంత్రణ కొరకు ప్రోటోకాల్ పాటించింది దీనిలో ఇతరులకు సంభావ్య సంక్రామ్యత లు రాకుండా నిరోధించడం కొరకు రోగిని ఇతరుల నుంచి వేరు చేయడం ఉంది', 'raw_transcription': 'ఆసుపత్రి సంక్రామ్యత నియంత్రణ కొరకు ప్రోటోకాల్ పాటించింది, దీనిలో ఇతరులకు సంభావ్య సంక్రామ్యత లు రాకుండా నిరోధించడం కొరకు రోగిని ఇతరుల నుంచి వేరు చేయడం ఉంది.', 'gender': 0, 'lang_id': 88, 'language': 'Telugu', 'lang_group_id': 4}\n",
      "\n"
     ]
    }
   ],
   "source": [
    "import torch\n",
    "en_dict = {entry['id']: entry for entry in fleurs_en}\n",
    "te_dict = {entry['id']: entry for entry in fleurs}\n",
    "\n",
    "english_sentences = [entry['raw_transcription'] for entry in fleurs_en]\n",
    "telugu_sentences = [entry['raw_transcription'] for entry in fleurs]\n",
    "\n",
    "parallel_data = [(en_dict[id], te_dict[id]) for id in en_dict if id in te_dict]\n",
    "\n",
    "for en, te in parallel_data[:5]:\n",
    "    print(f\"English: {en}\")\n",
    "    print(f\"Telugu: {te}\")\n",
    "    print()\n",
    "    \n",
    "torch.save(english_sentences, \"english_sentences_test.pt\")\n",
    "torch.save(telugu_sentences, \"telugu_sentences_test.pt\")"
   ]
  },
  {
   "cell_type": "code",
   "execution_count": 21,
   "metadata": {},
   "outputs": [
    {
     "name": "stdout",
     "output_type": "stream",
     "text": [
      "302\n"
     ]
    }
   ],
   "source": [
    "print(len(parallel_data))"
   ]
  }
 ],
 "metadata": {
  "kernelspec": {
   "display_name": "base",
   "language": "python",
   "name": "python3"
  },
  "language_info": {
   "codemirror_mode": {
    "name": "ipython",
    "version": 3
   },
   "file_extension": ".py",
   "mimetype": "text/x-python",
   "name": "python",
   "nbconvert_exporter": "python",
   "pygments_lexer": "ipython3",
   "version": "3.10.9"
  }
 },
 "nbformat": 4,
 "nbformat_minor": 2
}
